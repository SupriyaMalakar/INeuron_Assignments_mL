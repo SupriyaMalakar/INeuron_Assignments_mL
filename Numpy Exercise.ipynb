{
 "cells": [
  {
   "cell_type": "markdown",
   "metadata": {},
   "source": [
    "Write a function so that the columns of the output matrix are powers of the inputvector.The order of the powers is determined by the increasing boolean argument. Specifically, when increasing is False, the i-th output column is the input vector raised element-wise to the power of N -i -1.HINT:  Such  a  matrix  with  a  geometric  progression  in  each  row  is  named  for  Alexandre-Theophile Vandermonde."
   ]
  },
  {
   "cell_type": "code",
   "execution_count": 43,
   "metadata": {
    "scrolled": true
   },
   "outputs": [
    {
     "name": "stdout",
     "output_type": "stream",
     "text": [
      "The input array is: [1 2 3 4 5] \n",
      "\n",
      "Number of columns in output matrix should be: 3 \n",
      "\n",
      "Vander matrix of the input array in decreasing order of powers:\n",
      "\n",
      " [[ 1  1  1]\n",
      " [ 4  2  1]\n",
      " [ 9  3  1]\n",
      " [16  4  1]\n",
      " [25  5  1]] \n",
      "\n",
      "Vander matrix of the input array in increasing order of powers:\n",
      "\n",
      " [[ 1  1  1]\n",
      " [ 1  2  4]\n",
      " [ 1  3  9]\n",
      " [ 1  4 16]\n",
      " [ 1  5 25]] \n",
      "\n"
     ]
    }
   ],
   "source": [
    "import numpy as np\n",
    "\n",
    "def gen_vander_matrix(ipvector, n, increasing=False):\n",
    "    \n",
    "    if not increasing:\n",
    "        op_matx = np.array([x**(n-1-i) for x in ipvector for i in range(n)]).reshape(ipvector.size,n)\n",
    "    elif increasing:\n",
    "        op_matx = np.array([x**i for x in ipvector for i in range(n)]).reshape(ipvector.size,n)\n",
    "    \n",
    "    return op_matx\n",
    "\n",
    "\n",
    "\n",
    "inputvector = np.array([1,2,3,4,5])\n",
    "no_col_opmat = 3\n",
    "op_matx_dec_order = gen_vander_matrix(inputvector,no_col_opmat,False)\n",
    "op_matx_inc_order = gen_vander_matrix(inputvector,no_col_opmat,True)\n",
    "\n",
    "print(\"The input array is:\",inputvector,\"\\n\")\n",
    "print(\"Number of columns in output matrix should be:\",no_col_opmat,\"\\n\")\n",
    "print(\"Vander matrix of the input array in decreasing order of powers:\\n\\n\",op_matx_dec_order,\"\\n\")\n",
    "print(\"Vander matrix of the input array in increasing order of powers:\\n\\n\",op_matx_inc_order,\"\\n\")\n",
    "\n"
   ]
  },
  {
   "cell_type": "markdown",
   "metadata": {},
   "source": [
    "Problem Statement 2:\n",
    "Given a sequence of n values x1, x2, ..., xn and a window size k>0, the k-th moving average of the given sequence is defined as follows:The moving average sequence has n-k+1 elements as shown below.The moving averages with k=4 of a ten-value sequence (n=10) is shown belowi1  2  3  4  5  6  7  8  9 10======= == == == == == == == == ==Input 10 20 30 40 50 60 70 80 90 100 y125 = (10+20+30+40)/4y235 = (20+30+40+50)/4y345 = (30+40+50+60)/4y455 = (40+50+60+70)/4y565 = (50+60+70+80)/4y675 = (60+70+80+90)/4y785 = (70+80+90+100)/4Thus, the moving average sequence has n-k+1=10-4+1=7 values.\n",
    "Question:Write a function to find moving average in an array over a window:Test it over [3, 5, 7, 2, 8, 10, 11, 65, 72, 81, 99, 100, 150] and window of 3."
   ]
  },
  {
   "cell_type": "code",
   "execution_count": 48,
   "metadata": {},
   "outputs": [],
   "source": [
    "def genrunningAvg(arr,window):\n",
    "\n",
    "    for i in range(0,(arr.size-window+1)):\n",
    "        \n",
    "        numlist=arr[i:(i+window)]\n",
    "        avg=sum(numlist)/window\n",
    "        print(\"Elements in array \",numlist,\"\\t \\tAverage\",avg)\n",
    "            "
   ]
  },
  {
   "cell_type": "code",
   "execution_count": 49,
   "metadata": {},
   "outputs": [
    {
     "name": "stdout",
     "output_type": "stream",
     "text": [
      "Elements in array  [3 5 7] \t \tAverage 5.0\n",
      "Elements in array  [5 7 2] \t \tAverage 4.666666666666667\n",
      "Elements in array  [7 2 8] \t \tAverage 5.666666666666667\n",
      "Elements in array  [ 2  8 10] \t \tAverage 6.666666666666667\n",
      "Elements in array  [ 8 10 11] \t \tAverage 9.666666666666666\n",
      "Elements in array  [10 11 65] \t \tAverage 28.666666666666668\n",
      "Elements in array  [11 65 72] \t \tAverage 49.333333333333336\n",
      "Elements in array  [65 72 81] \t \tAverage 72.66666666666667\n",
      "Elements in array  [72 81 99] \t \tAverage 84.0\n",
      "Elements in array  [ 81  99 100] \t \tAverage 93.33333333333333\n",
      "Elements in array  [ 99 100 150] \t \tAverage 116.33333333333333\n"
     ]
    }
   ],
   "source": [
    "test1=np.array([3, 5, 7, 2, 8, 10, 11, 65, 72, 81, 99, 100, 150])\n",
    "genrunningAvg(test1,3)"
   ]
  },
  {
   "cell_type": "code",
   "execution_count": null,
   "metadata": {},
   "outputs": [],
   "source": []
  }
 ],
 "metadata": {
  "kernelspec": {
   "display_name": "Python 3",
   "language": "python",
   "name": "python3"
  },
  "language_info": {
   "codemirror_mode": {
    "name": "ipython",
    "version": 3
   },
   "file_extension": ".py",
   "mimetype": "text/x-python",
   "name": "python",
   "nbconvert_exporter": "python",
   "pygments_lexer": "ipython3",
   "version": "3.7.6"
  }
 },
 "nbformat": 4,
 "nbformat_minor": 4
}
